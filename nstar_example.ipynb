{
 "cells": [
  {
   "cell_type": "code",
   "execution_count": 1,
   "metadata": {
    "collapsed": false
   },
   "outputs": [],
   "source": [
    "import numpy as np\n",
    "from astropy import units as u\n",
    "from astropy.coordinates import SkyCoord\n",
    "from astropy.table import Table\n",
    "from astropy.io import fits\n",
    "from astropy.modeling import models, fitting\n",
    "from astropy.stats import sigma_clipped_stats\n",
    "from astropy.stats import gaussian_sigma_to_fwhm\n",
    "from photutils.datasets import make_random_gaussians\n",
    "from photutils.datasets import make_noise_image\n",
    "from photutils.datasets import make_gaussian_sources\n",
    "from photutils import daofind\n",
    "from photutils import psf\n",
    "from photutils import CircularAperture\n",
    "from photutils.psf import IntegratedGaussianPRF\n",
    "from matplotlib import rcParams\n",
    "import matplotlib.pyplot as plt\n",
    "from mpl_toolkits.mplot3d import Axes3D\n",
    "rcParams['image.cmap'] = 'viridis'\n",
    "rcParams['image.aspect'] = 1  # to get images with square pixels\n",
    "rcParams['figure.figsize'] = (20,10)\n",
    "rcParams['image.interpolation'] = 'none'\n",
    "from daogroup import daogroup\n",
    "from nstar import nstar"
   ]
  },
  {
   "cell_type": "code",
   "execution_count": 2,
   "metadata": {
    "collapsed": true
   },
   "outputs": [],
   "source": [
    "# generate artificial image\n",
    "num_sources = 250\n",
    "min_flux = 500\n",
    "max_flux = 1000\n",
    "min_xmean = 16\n",
    "max_xmean = 240\n",
    "sigma_psf = 2.0\n",
    "ground_truth = make_random_gaussians(num_sources, [min_flux, max_flux],\n",
    "                                     [min_xmean, max_xmean],\n",
    "                                     [min_xmean, max_xmean],\n",
    "                                     [sigma_psf, sigma_psf],\n",
    "                                     [sigma_psf, sigma_psf],\n",
    "                                     random_state=123)\n",
    "shape = (256, 256)\n",
    "image = (make_gaussian_sources(shape, ground_truth) +\n",
    "         make_noise_image(shape, type='poisson', mean=1., random_state=123))\n",
    "ground_truth.write('starlist_input.html')"
   ]
  },
  {
   "cell_type": "code",
   "execution_count": 3,
   "metadata": {
    "collapsed": true
   },
   "outputs": [],
   "source": [
    "# estimate background as the median after sigma clipping the sources\n",
    "_, bkg, std = sigma_clipped_stats(image, sigma=3.0, iters=5)\n",
    "\n",
    "# find potential sources with daofind\n",
    "sources = daofind(image - bkg, threshold=4.0*std,\n",
    "                  fwhm=sigma_psf*gaussian_sigma_to_fwhm)\n",
    "intab = Table(names=['id', 'x_0', 'y_0', 'flux_0'],\n",
    "              data=[sources['id'], sources['xcentroid'],\n",
    "                    sources['ycentroid'], sources['flux']])\n",
    "intab.write('starlist_initial_estimate.html')"
   ]
  },
  {
   "cell_type": "code",
   "execution_count": 4,
   "metadata": {
    "collapsed": true
   },
   "outputs": [],
   "source": [
    "# find groups using centroids initial estimates\n",
    "groups = daogroup(intab, crit_separation=2.0*sigma_psf*gaussian_sigma_to_fwhm)"
   ]
  },
  {
   "cell_type": "code",
   "execution_count": 5,
   "metadata": {
    "collapsed": false
   },
   "outputs": [
    {
     "data": {
      "text/plain": [
       "<matplotlib.text.Text at 0x114aec860>"
      ]
     },
     "execution_count": 5,
     "metadata": {},
     "output_type": "execute_result"
    }
   ],
   "source": [
    "# plot results\n",
    "plt.subplot(1, 2, 1)\n",
    "plt.imshow(image, origin='lower', interpolation='nearest')\n",
    "plt.title('Simulated data')\n",
    "plt.xlabel('x-position (pixel units)')\n",
    "plt.ylabel('y-position (pixel units)')"
   ]
  },
  {
   "cell_type": "code",
   "execution_count": 6,
   "metadata": {
    "collapsed": false
   },
   "outputs": [],
   "source": [
    "plt.subplot(1, 2, 2)\n",
    "# plot circular apertures around centroids initial estimates\n",
    "for i in range(len(groups)):\n",
    "    for j in range(len(groups[i]['id'])):\n",
    "        # show ids\n",
    "        # plt.text(groups[i]['x_0'][j], groups[i]['y_0'][j],\n",
    "        #          str(groups[i]['id'][j]))\n",
    "        aperture = CircularAperture((groups[i]['x_0'][j],\n",
    "                                     groups[i]['y_0'][j]),\n",
    "                                     r=sigma_psf*gaussian_sigma_to_fwhm)\n",
    "        aperture.plot(lw=1.5, alpha=0.5)"
   ]
  },
  {
   "cell_type": "code",
   "execution_count": 7,
   "metadata": {
    "collapsed": false
   },
   "outputs": [
    {
     "name": "stderr",
     "output_type": "stream",
     "text": [
      "WARNING: The fit may be unsuccessful; check fit_info['message'] for more information. [astropy.modeling.fitting]\n"
     ]
    }
   ],
   "source": [
    "# fit 2D Gaussian PSF model to each group\n",
    "tab, residual_image = nstar(image-bkg, groups, (5,5),\n",
    "                            fitting.LevMarLSQFitter(),\n",
    "                            IntegratedGaussianPRF, sigma=2.0)\n",
    "tab.sort('id')\n",
    "tab.write('starlist_estimated.html')\n",
    "# plot residual image\n",
    "plt.imshow(residual_image, origin='lower', interpolation='nearest')\n",
    "plt.title('Residual')\n",
    "plt.xlabel('x-position (pixel units)')\n",
    "plt.ylabel('y-position (pixel units)')\n",
    "plt.show()"
   ]
  },
  {
   "cell_type": "code",
   "execution_count": null,
   "metadata": {
    "collapsed": true
   },
   "outputs": [],
   "source": []
  }
 ],
 "metadata": {
  "kernelspec": {
   "display_name": "Python 3",
   "language": "python",
   "name": "python3"
  },
  "language_info": {
   "codemirror_mode": {
    "name": "ipython",
    "version": 3
   },
   "file_extension": ".py",
   "mimetype": "text/x-python",
   "name": "python",
   "nbconvert_exporter": "python",
   "pygments_lexer": "ipython3",
   "version": "3.5.1"
  }
 },
 "nbformat": 4,
 "nbformat_minor": 0
}
